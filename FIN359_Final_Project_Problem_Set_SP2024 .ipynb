{
 "cells": [
  {
   "cell_type": "markdown",
   "metadata": {},
   "source": [
    "# FIN359 Quant Finance - Final Project\n",
    "\n",
    "- This is ___individual work___.\n",
    "\n",
    "- This project is open-book, open-note, open-internet. Sharing your work to others will lead you to a letter grade of 'F'. Make sure you create / save the file in your desired path. Failure to submit on time will translate to a grade of ZERO.\n",
    "\n",
    "- I will not help you to read through the Error Message.\n",
    "\n",
    "- PLEASE CLEARLY INDICATE WHICH QUESTION / WHICH SECTION YOU ARE WORKING ON. \n",
    "\n",
    "- Make necessary comments (using `#` to explain your code)\n",
    "\n",
    "- USE ___print function___ to show intermediary steps if necessary\n",
    "\n",
    "- While you are working on the questions, DO NOT shut down your browser and terminal. If you incidentally close the Jupyter Lab tab, you can recover it by using the url : http://localhost:8888/lab\n",
    "\n",
    "- Please submit the file to the corresponding folder on canvas\n",
    "\n",
    "    - Important note: be aware of where your file is located / working directory. I am not responsible to help you find the file.\n",
    "    - Before you submit, make sure you are submitting the right file. If the file received is broken or a 'wrong' file, it will be treated as a missing submission. A grade of zero will be assigned.\n",
    "    - Please strictly follow the file naming convention: \n",
    "        - \"FistName_LastName_359FinalProj.ipynb\". \n",
    "    - Make sure you submit the file to canvas Assignment by deadline. Late submissions will NOT be accepted.\n",
    "\n",
    "\n",
    "$\\blacksquare$ BY SUBMITTING YOUR WORK, YOU CERTIFY THAT YOU STRICTLY OBEY THE UNIVERSITY'S ACADEMIC INTEGRITY POLICY.$\\blacksquare$"
   ]
  },
  {
   "cell_type": "markdown",
   "metadata": {},
   "source": [
    "***\n",
    "# Question 1 - Ploting and Charting (25 Points)"
   ]
  },
  {
   "cell_type": "markdown",
   "metadata": {},
   "source": [
    "For this question, your task is to create a chart that visualizes a topic of interest related to finance, economics, business, banking, personal finance, currency, etc. \n",
    "\n",
    "Requirement:\n",
    "1. You have the flexibility to choose any relevant topic, but you cannot reuse or reformat prior homework or in-class examples, such as historical stock price trends.\n",
    "2. Produce a chart using Python and a suitable data visualization library like Matplotlib or Seaborn (there are many others). Your chart should include ___at least two data sources and last least two variables___ and effectively present insights related to your chosen topic. Please clearly label X, Y, and title the graph.\n",
    "3. Provide a detailed paragraph discussing the data and sources you utilized. Explain any variable construction or transformation you performed, if applicable. Additionally, offer a brief commentary on the trend or pattern presented in your graph.\n",
    "4. Make sure that your code allows for easy replication of your graph by providing all necessary code and instructions, without relying on local data. (I do not additional files to reproduce your graph)\n",
    "5. pandas-datareader will be helpful but you are more than welcome to go beyond (https://pandas-datareader.readthedocs.io/en/latest/readers/index.html) "
   ]
  },
  {
   "cell_type": "code",
   "execution_count": null,
   "metadata": {},
   "outputs": [],
   "source": []
  },
  {
   "cell_type": "markdown",
   "metadata": {},
   "source": [
    "***\n",
    "# Question 2 (25 Points) - Data Analysis"
   ]
  },
  {
   "cell_type": "markdown",
   "metadata": {},
   "source": [
    "\n",
    "You are constructing a portfolio using the following stocks: Netflix, Coca-Cola, Amazon, Facebook, Southwest Airline, and Tesla. Portfolio weights are .15, .10, .35, .23, .07, and .10. \n",
    "\n",
    "- (3 points) Pull the stock price data from Yahoo over the estimation window Jan 01, 2016 to Dec 8, 2023. Use the closing price.\n",
    "\n",
    "- (3 points) Present the summary statistics of each stock's price, Mean, Standard Deviation, min, and Max.\n",
    "\n",
    "- (3 points) Calculate each stock's log return, $log(\\dfrac{P_t}{P_{t-1}})$. (See why we use log-returns here: https://quantivity.wordpress.com/2011/02/21/why-log-returns/)\n",
    "\n",
    "- (3 points) Calculate the portfolio return using the above weights given\n",
    "\n",
    "- (3 points) Produce a time series plot of your portfolio return and individual stock returns (in one plot). Clearly label X, Y as well as legengs and title.\n",
    "\n",
    "- (5 points) Compare the summary statistics of your portfolio return with the statistics of individual stock returns, what did you observe? discuss.\n",
    "\n",
    "- (5 points) Estimate the portfolio beta, $\\beta_{portfolio}$ in the spirit of the Capital Asset Pricing Model (assuming risk-free rate is close to zero, for simplicity) Let's use the return on the SPDR S\\&P 500 ETF as a proxy for market return.\n",
    "\n",
    "Hint:\n",
    "\n",
    "- in this question, you may likely use pandas dataframe, numpy, datareader, statsmodels, or many others."
   ]
  },
  {
   "cell_type": "code",
   "execution_count": null,
   "metadata": {},
   "outputs": [],
   "source": []
  },
  {
   "cell_type": "markdown",
   "metadata": {},
   "source": [
    "***\n",
    "# Question 3 (25 Points) - Capital Budgeting"
   ]
  },
  {
   "cell_type": "markdown",
   "metadata": {},
   "source": [
    "- Context: Your company is considering a new capital investment of a large equipment. The future project cash flows associatated with this investment is `[5300, 5400, 5895, 6000, 7008, 7532, 8000, 8032, 8521, 8600, 9023]` (starting from $t_1$). The risk-adjusted discount rates for each invetment period are estimated as `[0.101, 0.092, 0.112, 0.113, 0.130, 0.145, 0.145, 0.149, 0.113, 0.151, 0.156] `(starting from $t_1$).\n",
    "    - Determine the number of investment periods `T`.\n",
    "    - (10 points) What is the net present value (NPV) of this project? Given the initial equipment purchasing price to be $\\$15038$ (at $t_0$) and the initial consulting fee of $\\$5355$ (at $t_0$).\n",
    "    - (5 points) Given the above project cashflow structure, what is the internal rate of return (IRR)?\n",
    "    - (4 points)  If the discount rates vector uniformly decreases by  -0.004, what is the new NPV generated by this investment? What is the percentage change (sensitivity) in NPV ($\\% \\dfrac{\\Delta NPV}{NPV}$) associated with this discount rates change? \n",
    "    - (6 points)  Discuss if your project CF is further assumed to be growing over time, the growth rate $g$ is subject to a normal distribution $N(\\mu=0.0035, \\sigma=0.04)$, the first stream of project cash flow ($CF_{t_1}$) is $\\$5300$, ___describe___ in detail how to model your project PCF"
   ]
  },
  {
   "cell_type": "code",
   "execution_count": null,
   "metadata": {},
   "outputs": [],
   "source": []
  },
  {
   "cell_type": "markdown",
   "metadata": {},
   "source": [
    "# Question 4 (25 points)  Numpy Array Computation in Business Operation\n",
    "\n",
    "- Your business has 3 stores across 3 different regions. Below is the data of your number of customer visits of each month each store over the past year (from Jan to Dec 2021). For example, in the first list given `[1169, 1245, 1400, 1305, 2002, 3020, 4540, 3987, 4900, 5010, 6939, 8989]`, 1169 represents that there are totally 1169 customer visits for store 1 in January, 1245 means there are 1245 customer visits of store 1 in Feb, etc.\n",
    "\n",
    "Now, you want to get an idea of the customer flow distribution across 3 different stores you have -\n",
    "\n",
    "1. (12 points) ***For each store, each month***, what is the percentage of the customer flow for that given year? calculate the percentage series of customer flow of each store (you should get an array for each store)\n",
    "\n",
    "    - hint: First, you need to aggregate the annual total customer visitis of each store. Second, compute the ratio of $\\dfrac{number\\ of\\ customer\\ visits_{month\\ i, store\\ j}}{annual\\ customer\\ visit_{store\\ j} }$ for each store. Your results should be in the form of 3 arrays. For example, for the first element of store 1, you need to get $\\dfrac{1169}{1169 + 1245 + ... + 8989 }= 2.6266\\%$, and so on.\n",
    "    \n",
    "2. (12 points) For each store, calculate the percentage of the annual total customer visitis over the annual total customer visits of the entire business\n",
    "\n",
    "    - hint: First, calculate the summation of the the number of the visits of the entire business - sum of the annual total visits of all 3 stores. Second, take the ratio of $\\dfrac{\\Sigma\\ number\\ of\\ customer\\ visits_{month\\ i, store\\ j}}{Annual\\ total\\ customer\\ visists\\ of\\ whole\\ business}$.\n",
    "    \n",
    "3. (1 point) use print function to show your results.\n",
    "\n",
    " ~ store1: `[1169, 1245, 1400, 1305, 2002, 3020, 4540, 3987, 4900, 5010, 6939, 8989]`\n",
    "\n",
    " ~ store2: `[780,  804, 930, 1305, 1504, 2829, 3542, 4001, 3764, 4703, 6523, 8010]`\n",
    "\n",
    " ~ store3: `[1552, 1621, 1830, 1902, 2098, 3923, 5563, 5017, 6102, 6880, 7069, 9140]`\n",
    "\n",
    " \n",
    "***Note that your computation should be implemented using Numpy array***\n"
   ]
  },
  {
   "cell_type": "code",
   "execution_count": null,
   "metadata": {},
   "outputs": [],
   "source": []
  },
  {
   "cell_type": "markdown",
   "metadata": {},
   "source": [
    "---"
   ]
  }
 ],
 "metadata": {
  "kernelspec": {
   "display_name": "Python 3 (ipykernel)",
   "language": "python",
   "name": "python3"
  },
  "language_info": {
   "codemirror_mode": {
    "name": "ipython",
    "version": 3
   },
   "file_extension": ".py",
   "mimetype": "text/x-python",
   "name": "python",
   "nbconvert_exporter": "python",
   "pygments_lexer": "ipython3",
   "version": "3.11.7"
  }
 },
 "nbformat": 4,
 "nbformat_minor": 4
}
